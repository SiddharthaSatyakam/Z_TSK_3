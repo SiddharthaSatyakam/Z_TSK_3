{
  "nbformat": 4,
  "nbformat_minor": 0,
  "metadata": {
    "colab": {
      "name": "Poly.ipynb",
      "provenance": []
    },
    "kernelspec": {
      "name": "python3",
      "display_name": "Python 3"
    },
    "language_info": {
      "name": "python"
    }
  },
  "cells": [
    {
      "cell_type": "code",
      "metadata": {
        "id": "Yjjhz0E3NoLb"
      },
      "source": [
        "import pandas as pd\n",
        "import numpy as np\n",
        "import seaborn as sns\n",
        "import matplotlib.pyplot as plt\n",
        "import plotly.express as px"
      ],
      "execution_count": 1,
      "outputs": []
    },
    {
      "cell_type": "code",
      "metadata": {
        "colab": {
          "base_uri": "https://localhost:8080/",
          "height": 204
        },
        "id": "LQhPsoJdO82l",
        "outputId": "d2c753b0-cd00-434a-a3a5-526dfe2c75f9"
      },
      "source": [
        "df=pd.read_csv('Startups.csv')\n",
        "nn_df=df.copy()\n",
        "nn_df.drop(['Administration'],axis=1)\n",
        "nn_df.head()"
      ],
      "execution_count": 141,
      "outputs": [
        {
          "output_type": "execute_result",
          "data": {
            "text/html": [
              "<div>\n",
              "<style scoped>\n",
              "    .dataframe tbody tr th:only-of-type {\n",
              "        vertical-align: middle;\n",
              "    }\n",
              "\n",
              "    .dataframe tbody tr th {\n",
              "        vertical-align: top;\n",
              "    }\n",
              "\n",
              "    .dataframe thead th {\n",
              "        text-align: right;\n",
              "    }\n",
              "</style>\n",
              "<table border=\"1\" class=\"dataframe\">\n",
              "  <thead>\n",
              "    <tr style=\"text-align: right;\">\n",
              "      <th></th>\n",
              "      <th>R&amp;D Spend</th>\n",
              "      <th>Administration</th>\n",
              "      <th>Marketing Spend</th>\n",
              "      <th>State</th>\n",
              "      <th>Profit</th>\n",
              "    </tr>\n",
              "  </thead>\n",
              "  <tbody>\n",
              "    <tr>\n",
              "      <th>0</th>\n",
              "      <td>165349.20</td>\n",
              "      <td>136897.80</td>\n",
              "      <td>471784.10</td>\n",
              "      <td>New York</td>\n",
              "      <td>192261.83</td>\n",
              "    </tr>\n",
              "    <tr>\n",
              "      <th>1</th>\n",
              "      <td>162597.70</td>\n",
              "      <td>151377.59</td>\n",
              "      <td>443898.53</td>\n",
              "      <td>California</td>\n",
              "      <td>191792.06</td>\n",
              "    </tr>\n",
              "    <tr>\n",
              "      <th>2</th>\n",
              "      <td>153441.51</td>\n",
              "      <td>101145.55</td>\n",
              "      <td>407934.54</td>\n",
              "      <td>Florida</td>\n",
              "      <td>191050.39</td>\n",
              "    </tr>\n",
              "    <tr>\n",
              "      <th>3</th>\n",
              "      <td>144372.41</td>\n",
              "      <td>118671.85</td>\n",
              "      <td>383199.62</td>\n",
              "      <td>New York</td>\n",
              "      <td>182901.99</td>\n",
              "    </tr>\n",
              "    <tr>\n",
              "      <th>4</th>\n",
              "      <td>142107.34</td>\n",
              "      <td>91391.77</td>\n",
              "      <td>366168.42</td>\n",
              "      <td>Florida</td>\n",
              "      <td>166187.94</td>\n",
              "    </tr>\n",
              "  </tbody>\n",
              "</table>\n",
              "</div>"
            ],
            "text/plain": [
              "   R&D Spend  Administration  Marketing Spend       State     Profit\n",
              "0  165349.20       136897.80        471784.10    New York  192261.83\n",
              "1  162597.70       151377.59        443898.53  California  191792.06\n",
              "2  153441.51       101145.55        407934.54     Florida  191050.39\n",
              "3  144372.41       118671.85        383199.62    New York  182901.99\n",
              "4  142107.34        91391.77        366168.42     Florida  166187.94"
            ]
          },
          "metadata": {
            "tags": []
          },
          "execution_count": 141
        }
      ]
    },
    {
      "cell_type": "code",
      "metadata": {
        "colab": {
          "base_uri": "https://localhost:8080/"
        },
        "id": "OboF8kVWPFWZ",
        "outputId": "15267e9c-619b-48ce-efab-5bad3cbfe895"
      },
      "source": [
        "df.info()"
      ],
      "execution_count": 5,
      "outputs": [
        {
          "output_type": "stream",
          "text": [
            "<class 'pandas.core.frame.DataFrame'>\n",
            "RangeIndex: 50 entries, 0 to 49\n",
            "Data columns (total 5 columns):\n",
            " #   Column           Non-Null Count  Dtype  \n",
            "---  ------           --------------  -----  \n",
            " 0   R&D Spend        50 non-null     float64\n",
            " 1   Administration   50 non-null     float64\n",
            " 2   Marketing Spend  50 non-null     float64\n",
            " 3   State            50 non-null     object \n",
            " 4   Profit           50 non-null     float64\n",
            "dtypes: float64(4), object(1)\n",
            "memory usage: 2.1+ KB\n"
          ],
          "name": "stdout"
        }
      ]
    },
    {
      "cell_type": "code",
      "metadata": {
        "id": "b7vKRtUaPM6p"
      },
      "source": [
        "df.describe()\n",
        "\n",
        "x = nnndf.iloc[:,:-1].values\n",
        "y = nnndf.iloc[:,-1].values"
      ],
      "execution_count": 152,
      "outputs": []
    },
    {
      "cell_type": "code",
      "metadata": {
        "colab": {
          "base_uri": "https://localhost:8080/"
        },
        "id": "gT5NhyPIPUJq",
        "outputId": "5950d4b7-27fc-4cb0-ea9e-c72ec6ef1c7e"
      },
      "source": [
        "from sklearn.preprocessing import OneHotEncoder\n",
        "from sklearn.compose import ColumnTransformer\n",
        "\n",
        "c=ColumnTransformer(transformers=[('encoding',OneHotEncoder(),[3])],remainder='passthrough')\n",
        "x=np.array(c.fit_transform(x))\n",
        "x\n",
        "np.delete(x,3,1)\n",
        "# n_df=pd.DataFrame(x)"
      ],
      "execution_count": 153,
      "outputs": [
        {
          "output_type": "execute_result",
          "data": {
            "text/plain": [
              "array([[0.0, 0.0, 1.0, 136897.8, 471784.1],\n",
              "       [1.0, 0.0, 0.0, 151377.59, 443898.53],\n",
              "       [0.0, 1.0, 0.0, 101145.55, 407934.54],\n",
              "       [0.0, 0.0, 1.0, 118671.85, 383199.62],\n",
              "       [0.0, 1.0, 0.0, 91391.77, 366168.42],\n",
              "       [0.0, 0.0, 1.0, 99814.71, 362861.36],\n",
              "       [1.0, 0.0, 0.0, 147198.87, 127716.82],\n",
              "       [0.0, 1.0, 0.0, 145530.06, 323876.68],\n",
              "       [0.0, 0.0, 1.0, 148718.95, 311613.29],\n",
              "       [1.0, 0.0, 0.0, 108679.17, 304981.62],\n",
              "       [0.0, 1.0, 0.0, 110594.11, 229160.95],\n",
              "       [1.0, 0.0, 0.0, 91790.61, 249744.55],\n",
              "       [0.0, 1.0, 0.0, 127320.38, 249839.44],\n",
              "       [1.0, 0.0, 0.0, 135495.07, 252664.93],\n",
              "       [0.0, 1.0, 0.0, 156547.42, 256512.92],\n",
              "       [0.0, 0.0, 1.0, 122616.84, 261776.23],\n",
              "       [1.0, 0.0, 0.0, 121597.55, 264346.06],\n",
              "       [0.0, 0.0, 1.0, 145077.58, 282574.31],\n",
              "       [0.0, 1.0, 0.0, 114175.79, 294919.57],\n",
              "       [0.0, 0.0, 1.0, 153514.11, 0.0],\n",
              "       [1.0, 0.0, 0.0, 113867.3, 298664.47],\n",
              "       [0.0, 0.0, 1.0, 153773.43, 299737.29],\n",
              "       [0.0, 1.0, 0.0, 122782.75, 303319.26],\n",
              "       [0.0, 1.0, 0.0, 105751.03, 304768.73],\n",
              "       [0.0, 0.0, 1.0, 99281.34, 140574.81],\n",
              "       [1.0, 0.0, 0.0, 139553.16, 137962.62],\n",
              "       [0.0, 1.0, 0.0, 144135.98, 134050.07],\n",
              "       [0.0, 0.0, 1.0, 127864.55, 353183.81],\n",
              "       [0.0, 1.0, 0.0, 182645.56, 118148.2],\n",
              "       [0.0, 0.0, 1.0, 153032.06, 107138.38],\n",
              "       [0.0, 1.0, 0.0, 115641.28, 91131.24],\n",
              "       [0.0, 0.0, 1.0, 152701.92, 88218.23],\n",
              "       [1.0, 0.0, 0.0, 129219.61, 46085.25],\n",
              "       [0.0, 1.0, 0.0, 103057.49, 214634.81],\n",
              "       [1.0, 0.0, 0.0, 157693.92, 210797.67],\n",
              "       [0.0, 0.0, 1.0, 85047.44, 205517.64],\n",
              "       [0.0, 1.0, 0.0, 127056.21, 201126.82],\n",
              "       [1.0, 0.0, 0.0, 51283.14, 197029.42],\n",
              "       [0.0, 0.0, 1.0, 65947.93, 185265.1],\n",
              "       [1.0, 0.0, 0.0, 82982.09, 174999.3],\n",
              "       [1.0, 0.0, 0.0, 118546.05, 172795.67],\n",
              "       [0.0, 1.0, 0.0, 84710.77, 164470.71],\n",
              "       [1.0, 0.0, 0.0, 96189.63, 148001.11],\n",
              "       [0.0, 0.0, 1.0, 127382.3, 35534.17],\n",
              "       [1.0, 0.0, 0.0, 154806.14, 28334.72],\n",
              "       [0.0, 0.0, 1.0, 124153.04, 1903.93],\n",
              "       [0.0, 1.0, 0.0, 115816.21, 297114.46],\n",
              "       [1.0, 0.0, 0.0, 135426.92, 0.0],\n",
              "       [0.0, 0.0, 1.0, 51743.15, 0.0],\n",
              "       [1.0, 0.0, 0.0, 116983.8, 45173.06]], dtype=object)"
            ]
          },
          "metadata": {
            "tags": []
          },
          "execution_count": 153
        }
      ]
    },
    {
      "cell_type": "code",
      "metadata": {
        "colab": {
          "base_uri": "https://localhost:8080/"
        },
        "id": "NN-E-3Cyh-Sa",
        "outputId": "6852a0a6-9c86-4c5c-a2f2-a8f5f37df6d1"
      },
      "source": [
        "nnndf.isnull().sum()"
      ],
      "execution_count": 154,
      "outputs": [
        {
          "output_type": "execute_result",
          "data": {
            "text/plain": [
              "R&D Spend          0\n",
              "Administration     0\n",
              "Marketing Spend    0\n",
              "State              0\n",
              "Profit             0\n",
              "dtype: int64"
            ]
          },
          "metadata": {
            "tags": []
          },
          "execution_count": 154
        }
      ]
    },
    {
      "cell_type": "code",
      "metadata": {
        "colab": {
          "base_uri": "https://localhost:8080/"
        },
        "id": "9Tn2Ev6ui1M6",
        "outputId": "f488638a-21a2-4dba-aa7f-e95e28baa3a3"
      },
      "source": [
        "from sklearn.model_selection import train_test_split\n",
        "\n",
        "x_train,x_test,y_train,y_test= train_test_split(x,y,test_size=0.2,random_state=1)\n",
        "y_test.shape"
      ],
      "execution_count": 155,
      "outputs": [
        {
          "output_type": "execute_result",
          "data": {
            "text/plain": [
              "(10,)"
            ]
          },
          "metadata": {
            "tags": []
          },
          "execution_count": 155
        }
      ]
    },
    {
      "cell_type": "code",
      "metadata": {
        "colab": {
          "base_uri": "https://localhost:8080/"
        },
        "id": "iWFyhw2_kkE2",
        "outputId": "32e47f47-dfa9-47cd-8112-ef91644cd080"
      },
      "source": [
        "from sklearn.preprocessing import PolynomialFeatures\n",
        "from sklearn.linear_model import LinearRegression\n",
        "poly=PolynomialFeatures(degree=4)\n",
        "X_poly=poly.fit_transform(x)\n",
        "\n",
        "lin_reg=LinearRegression()\n",
        "lin_reg.fit(X_poly,y)\n",
        "y.shape"
      ],
      "execution_count": 156,
      "outputs": [
        {
          "output_type": "execute_result",
          "data": {
            "text/plain": [
              "(50,)"
            ]
          },
          "metadata": {
            "tags": []
          },
          "execution_count": 156
        }
      ]
    },
    {
      "cell_type": "code",
      "metadata": {
        "id": "tZCKshtylrL3"
      },
      "source": [
        "pred=lin_reg.predict(X_poly)"
      ],
      "execution_count": 157,
      "outputs": []
    },
    {
      "cell_type": "code",
      "metadata": {
        "colab": {
          "base_uri": "https://localhost:8080/",
          "height": 361
        },
        "id": "cF9-hAozmhkG",
        "outputId": "4e0277a9-8c2b-4d00-e755-61f322e2f012"
      },
      "source": [
        "corr=nnndf.corr()\n",
        "# plt.plot(x, lin_reg.predict(poly.fit_transform(x)), color = 'blue')\n",
        "# plt.show()\n",
        "sns.heatmap(corr,annot=True,cbar=True)"
      ],
      "execution_count": 135,
      "outputs": [
        {
          "output_type": "execute_result",
          "data": {
            "text/plain": [
              "<matplotlib.axes._subplots.AxesSubplot at 0x7f0afa9fddd0>"
            ]
          },
          "metadata": {
            "tags": []
          },
          "execution_count": 135
        },
        {
          "output_type": "display_data",
          "data": {
            "image/png": "[encoded data removed]",
            "text/plain": [
              "<Figure size 432x288 with 2 Axes>"
            ]
          },
          "metadata": {
            "tags": [],
            "needs_background": "light"
          }
        }
      ]
    },
    {
      "cell_type": "code",
      "metadata": {
        "colab": {
          "base_uri": "https://localhost:8080/"
        },
        "id": "aZDM3HDMn56p",
        "outputId": "b678a34c-90a4-422f-b729-c4e1f148e27e"
      },
      "source": [
        "from sklearn.metrics import r2_score\n",
        "\n",
        "r=r2_score(pred,y)\n",
        "r"
      ],
      "execution_count": 158,
      "outputs": [
        {
          "output_type": "execute_result",
          "data": {
            "text/plain": [
              "0.9999997305889862"
            ]
          },
          "metadata": {
            "tags": []
          },
          "execution_count": 158
        }
      ]
    },
    {
      "cell_type": "code",
      "metadata": {
        "id": "yw5asUPNuPmJ"
      },
      "source": [
        ""
      ],
      "execution_count": null,
      "outputs": []
    }
  ]
}